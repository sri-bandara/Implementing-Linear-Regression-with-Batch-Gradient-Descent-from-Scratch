{
 "cells": [
  {
   "cell_type": "markdown",
   "id": "968d1532",
   "metadata": {},
   "source": [
    "# <b>Implementing Linear Regression with Batch Gradient Descent from Scratch</b>"
   ]
  },
  {
   "cell_type": "code",
   "execution_count": 1,
   "id": "a8956631",
   "metadata": {},
   "outputs": [],
   "source": [
    "import numpy as np\n",
    "import matplotlib.pyplot as plt\n",
    "import copy"
   ]
  },
  {
   "cell_type": "code",
   "execution_count": 2,
   "id": "4bc8bd8e",
   "metadata": {},
   "outputs": [],
   "source": [
    "data = np.loadtxt('ex1data1.txt', delimiter=',')\n",
    "\n",
    "x_train = data[:,0] # population of a given city\n",
    "y_train = data[:,1] # profit of a restaurant in that city"
   ]
  },
  {
   "cell_type": "code",
   "execution_count": 3,
   "id": "4c4c0487",
   "metadata": {},
   "outputs": [
    {
     "data": {
      "text/plain": [
       "array([6.1101, 5.5277, 8.5186, 7.0032, 5.8598])"
      ]
     },
     "execution_count": 3,
     "metadata": {},
     "output_type": "execute_result"
    }
   ],
   "source": [
    "x_train[:5] "
   ]
  },
  {
   "cell_type": "code",
   "execution_count": 4,
   "id": "423d3ece",
   "metadata": {},
   "outputs": [
    {
     "data": {
      "text/plain": [
       "array([17.592 ,  9.1302, 13.662 , 11.854 ,  6.8233])"
      ]
     },
     "execution_count": 4,
     "metadata": {},
     "output_type": "execute_result"
    }
   ],
   "source": [
    "y_train[:5] "
   ]
  },
  {
   "cell_type": "code",
   "execution_count": 5,
   "id": "05c42ef2",
   "metadata": {},
   "outputs": [
    {
     "data": {
      "text/plain": [
       "(97,)"
      ]
     },
     "execution_count": 5,
     "metadata": {},
     "output_type": "execute_result"
    }
   ],
   "source": [
    "x_train.shape"
   ]
  },
  {
   "cell_type": "code",
   "execution_count": 6,
   "id": "de50d85a",
   "metadata": {},
   "outputs": [
    {
     "data": {
      "text/plain": [
       "(97,)"
      ]
     },
     "execution_count": 6,
     "metadata": {},
     "output_type": "execute_result"
    }
   ],
   "source": [
    "y_train.shape"
   ]
  },
  {
   "cell_type": "code",
   "execution_count": 7,
   "id": "7a0a073c",
   "metadata": {},
   "outputs": [
    {
     "data": {
      "image/png": "[encoded data removed]",
      "text/plain": [
       "<Figure size 640x480 with 1 Axes>"
      ]
     },
     "metadata": {},
     "output_type": "display_data"
    }
   ],
   "source": [
    "plt.scatter(x_train, y_train, marker='x', c='r')\n",
    "\n",
    "plt.xlabel('Population of City in 10,000s')\n",
    "plt.ylabel('Profit in $10,000')\n",
    "plt.show()"
   ]
  },
  {
   "cell_type": "markdown",
   "id": "8024b794",
   "metadata": {},
   "source": [
    "#### <b>Implementing the squared error cost function</b>"
   ]
  },
  {
   "cell_type": "code",
   "execution_count": 8,
   "id": "2687ca60",
   "metadata": {},
   "outputs": [],
   "source": [
    "def compute_cost(x, y, w, b):\n",
    "    \"\"\"\n",
    "    computes the final cost given x, y, w(1 variable) and b\n",
    "    \"\"\"\n",
    "    m = x.shape[0]\n",
    "    total_cost = 0\n",
    "\n",
    "    for i in range(m):\n",
    "        y_hat_i = w * x[i] + b\n",
    "        cost_i = (y_hat_i - y[i]) ** 2\n",
    "        total_cost += cost_i\n",
    "    \n",
    "    final_cost = total_cost / (2 * m)\n",
    "    \n",
    "    return final_cost"
   ]
  },
  {
   "cell_type": "markdown",
   "id": "4d8cdea0",
   "metadata": {},
   "source": [
    "#### <b>Implementing a function to calculate the derivatives in gradient descent</b>"
   ]
  },
  {
   "cell_type": "code",
   "execution_count": 9,
   "id": "ddb4239a",
   "metadata": {},
   "outputs": [],
   "source": [
    "def compute_derivative(x, y, w, b):\n",
    "    \"\"\"\n",
    "    computes the derivative terms dj_dw and dj_db(these set the gradient) of gradient descent\n",
    "    \"\"\"\n",
    "\n",
    "    m = x.shape[0]\n",
    "\n",
    "    dj_dw = 0\n",
    "    dj_db = 0\n",
    "\n",
    "    for i in range(m):\n",
    "        y_hat_i = w * x[i] + b\n",
    "        dj_dw_i = (y_hat_i - y[i]) * x[i]\n",
    "        dj_db_i = (y_hat_i - y[i])\n",
    "\n",
    "        dj_dw += dj_dw_i\n",
    "        dj_db += dj_db_i\n",
    "\n",
    "    dj_dw = dj_dw / m\n",
    "    dj_db = dj_db / m\n",
    "\n",
    "    return dj_dw, dj_db"
   ]
  },
  {
   "cell_type": "markdown",
   "id": "73c50c89",
   "metadata": {},
   "source": [
    "#### <b>Implementing batch gradient descent function</b>"
   ]
  },
  {
   "cell_type": "code",
   "execution_count": 10,
   "id": "2dcbc8a0",
   "metadata": {},
   "outputs": [],
   "source": [
    "def gradient_descent(x, y, w_init, b_init, cal_cost, cal_derivative, alpha, num_iters):\n",
    "    \"\"\"\n",
    "    performs batch gradient descent to find the optimal values of w and b (these parameters are also called theta)\n",
    "    \"\"\"\n",
    "    \n",
    "    w = copy.deepcopy(w_init) # since this function changes the values of w_init with each iteration, we make a copy so as to not alter the original\n",
    "    b = b_init # as b is a scalar and scalars are immutable in python there is no need to make a copy\n",
    "\n",
    "    for i in range(num_iters):\n",
    "        dj_dw, dj_db = cal_derivative(x, y, w, b)\n",
    "\n",
    "        w = w - alpha * dj_dw\n",
    "        b = b - alpha * dj_db\n",
    "\n",
    "        if i % 100 == 0:\n",
    "            cost = cal_cost(x, y, w, b)\n",
    "            print(f\"Iteration {i}, Cost {round(cost,2)}\")\n",
    "    \n",
    "    return w, b"
   ]
  },
  {
   "cell_type": "code",
   "execution_count": 11,
   "id": "592d6a14",
   "metadata": {},
   "outputs": [
    {
     "name": "stdout",
     "output_type": "stream",
     "text": [
      "Iteration 0, Cost 6.74\n",
      "Iteration 100, Cost 5.48\n",
      "Iteration 200, Cost 5.17\n",
      "Iteration 300, Cost 4.96\n",
      "Iteration 400, Cost 4.82\n",
      "Iteration 500, Cost 4.71\n",
      "Iteration 600, Cost 4.64\n",
      "Iteration 700, Cost 4.59\n",
      "Iteration 800, Cost 4.56\n",
      "Iteration 900, Cost 4.53\n",
      "Iteration 1000, Cost 4.52\n",
      "Iteration 1100, Cost 4.5\n",
      "Iteration 1200, Cost 4.5\n",
      "Iteration 1300, Cost 4.49\n",
      "Iteration 1400, Cost 4.49\n",
      "Iteration 1500, Cost 4.48\n",
      "Iteration 1600, Cost 4.48\n",
      "Iteration 1700, Cost 4.48\n",
      "Iteration 1800, Cost 4.48\n",
      "Iteration 1900, Cost 4.48\n",
      "Iteration 2000, Cost 4.48\n",
      "Iteration 2100, Cost 4.48\n",
      "Iteration 2200, Cost 4.48\n",
      "Iteration 2300, Cost 4.48\n",
      "Iteration 2400, Cost 4.48\n",
      "Iteration 2500, Cost 4.48\n",
      "Iteration 2600, Cost 4.48\n",
      "Iteration 2700, Cost 4.48\n",
      "Iteration 2800, Cost 4.48\n",
      "Iteration 2900, Cost 4.48\n",
      "Iteration 3000, Cost 4.48\n",
      "Iteration 3100, Cost 4.48\n",
      "Iteration 3200, Cost 4.48\n",
      "Iteration 3300, Cost 4.48\n",
      "Iteration 3400, Cost 4.48\n",
      "Iteration 3500, Cost 4.48\n",
      "Iteration 3600, Cost 4.48\n",
      "Iteration 3700, Cost 4.48\n",
      "Iteration 3800, Cost 4.48\n",
      "Iteration 3900, Cost 4.48\n",
      "Iteration 4000, Cost 4.48\n",
      "Iteration 4100, Cost 4.48\n",
      "Iteration 4200, Cost 4.48\n",
      "Iteration 4300, Cost 4.48\n",
      "Iteration 4400, Cost 4.48\n",
      "Iteration 4500, Cost 4.48\n",
      "Iteration 4600, Cost 4.48\n",
      "Iteration 4700, Cost 4.48\n",
      "Iteration 4800, Cost 4.48\n",
      "Iteration 4900, Cost 4.48\n",
      "Iteration 5000, Cost 4.48\n",
      "Iteration 5100, Cost 4.48\n",
      "Iteration 5200, Cost 4.48\n",
      "Iteration 5300, Cost 4.48\n",
      "Iteration 5400, Cost 4.48\n",
      "Iteration 5500, Cost 4.48\n",
      "Iteration 5600, Cost 4.48\n",
      "Iteration 5700, Cost 4.48\n",
      "Iteration 5800, Cost 4.48\n",
      "Iteration 5900, Cost 4.48\n",
      "Iteration 6000, Cost 4.48\n",
      "Iteration 6100, Cost 4.48\n",
      "Iteration 6200, Cost 4.48\n",
      "Iteration 6300, Cost 4.48\n",
      "Iteration 6400, Cost 4.48\n",
      "Iteration 6500, Cost 4.48\n",
      "Iteration 6600, Cost 4.48\n",
      "Iteration 6700, Cost 4.48\n",
      "Iteration 6800, Cost 4.48\n",
      "Iteration 6900, Cost 4.48\n",
      "Iteration 7000, Cost 4.48\n",
      "Iteration 7100, Cost 4.48\n",
      "Iteration 7200, Cost 4.48\n",
      "Iteration 7300, Cost 4.48\n",
      "Iteration 7400, Cost 4.48\n",
      "Iteration 7500, Cost 4.48\n",
      "Iteration 7600, Cost 4.48\n",
      "Iteration 7700, Cost 4.48\n",
      "Iteration 7800, Cost 4.48\n",
      "Iteration 7900, Cost 4.48\n",
      "Iteration 8000, Cost 4.48\n",
      "Iteration 8100, Cost 4.48\n",
      "Iteration 8200, Cost 4.48\n",
      "Iteration 8300, Cost 4.48\n",
      "Iteration 8400, Cost 4.48\n",
      "Iteration 8500, Cost 4.48\n",
      "Iteration 8600, Cost 4.48\n",
      "Iteration 8700, Cost 4.48\n",
      "Iteration 8800, Cost 4.48\n",
      "Iteration 8900, Cost 4.48\n",
      "Iteration 9000, Cost 4.48\n",
      "Iteration 9100, Cost 4.48\n",
      "Iteration 9200, Cost 4.48\n",
      "Iteration 9300, Cost 4.48\n",
      "Iteration 9400, Cost 4.48\n",
      "Iteration 9500, Cost 4.48\n",
      "Iteration 9600, Cost 4.48\n",
      "Iteration 9700, Cost 4.48\n",
      "Iteration 9800, Cost 4.48\n",
      "Iteration 9900, Cost 4.48\n"
     ]
    }
   ],
   "source": [
    "initial_w = 0\n",
    "initial_b = 0\n",
    "\n",
    "iterations = 10000\n",
    "alpha = 0.01\n",
    "\n",
    "w, b = gradient_descent(x_train, y_train, initial_w, initial_b, compute_cost, compute_derivative, alpha, iterations)"
   ]
  },
  {
   "cell_type": "code",
   "execution_count": 12,
   "id": "37ed85c2",
   "metadata": {},
   "outputs": [
    {
     "data": {
      "text/plain": [
       "np.float64(1.1930336383584828)"
      ]
     },
     "execution_count": 12,
     "metadata": {},
     "output_type": "execute_result"
    }
   ],
   "source": [
    "w"
   ]
  },
  {
   "cell_type": "code",
   "execution_count": 13,
   "id": "37012c52",
   "metadata": {},
   "outputs": [
    {
     "data": {
      "text/plain": [
       "np.float64(-3.895780820268237)"
      ]
     },
     "execution_count": 13,
     "metadata": {},
     "output_type": "execute_result"
    }
   ],
   "source": [
    "b"
   ]
  },
  {
   "cell_type": "code",
   "execution_count": 14,
   "id": "37f845e9",
   "metadata": {},
   "outputs": [],
   "source": [
    "m = x_train.shape[0]\n",
    "\n",
    "predicted = np.zeros(m)\n",
    "\n",
    "for i in range(m):\n",
    "    predicted[i] = w * x_train[i] + b"
   ]
  },
  {
   "cell_type": "code",
   "execution_count": 15,
   "id": "78355587",
   "metadata": {},
   "outputs": [
    {
     "data": {
      "image/png": "[encoded data removed]",
      "text/plain": [
       "<Figure size 640x480 with 1 Axes>"
      ]
     },
     "metadata": {},
     "output_type": "display_data"
    }
   ],
   "source": [
    "plt.scatter(x_train, y_train, marker='x', c='r')\n",
    "plt.plot(x_train, predicted, c='g')\n",
    "\n",
    "plt.xlabel('Population of City in 10,000s')\n",
    "plt.ylabel('Profit in $10,000')\n",
    "plt.show()"
   ]
  },
  {
   "cell_type": "code",
   "execution_count": 16,
   "id": "9b6db906",
   "metadata": {},
   "outputs": [
    {
     "name": "stdout",
     "output_type": "stream",
     "text": [
      "For population = 35,000, the algorithm predicts a profit of $2798.37\n"
     ]
    }
   ],
   "source": [
    "predict1 = 3.5 * w + b\n",
    "print('For population = 35,000, the algorithm predicts a profit of $%.2f' % (predict1*10000))"
   ]
  },
  {
   "cell_type": "code",
   "execution_count": 17,
   "id": "0c7af03a",
   "metadata": {},
   "outputs": [
    {
     "name": "stdout",
     "output_type": "stream",
     "text": [
      "For population = 70,000, the algorithm predict a profit of $44554.55\n"
     ]
    }
   ],
   "source": [
    "predict2 = 7.0 * w + b\n",
    "print('For population = 70,000, the algorithm predict a profit of $%.2f' % (predict2*10000))"
   ]
  }
 ],
 "metadata": {
  "kernelspec": {
   "display_name": "lreg",
   "language": "python",
   "name": "python3"
  },
  "language_info": {
   "codemirror_mode": {
    "name": "ipython",
    "version": 3
   },
   "file_extension": ".py",
   "mimetype": "text/x-python",
   "name": "python",
   "nbconvert_exporter": "python",
   "pygments_lexer": "ipython3",
   "version": "3.11.5"
  }
 },
 "nbformat": 4,
 "nbformat_minor": 5
}
